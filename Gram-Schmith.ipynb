{
 "cells": [
  {
   "cell_type": "code",
   "execution_count": 12,
   "metadata": {},
   "outputs": [],
   "source": [
    "import numpy as np\n",
    "import sympy as sy\n",
    "import matplotlib.pyplot as plt\n",
    "\n"
   ]
  },
  {
   "cell_type": "code",
   "execution_count": null,
   "metadata": {},
   "outputs": [],
   "source": []
  },
  {
   "cell_type": "code",
   "execution_count": 13,
   "metadata": {},
   "outputs": [],
   "source": [
    "from sympy import *\n",
    "from sympy.vector import *\n",
    "from sympy.plotting import *\n",
    "\n",
    "a,b,c,d,x, y = sy.symbols(\"a b c d x y\", real=true)\n",
    "\n",
    "\n",
    "N = CoordSys3D('N')\n"
   ]
  },
  {
   "cell_type": "code",
   "execution_count": 14,
   "metadata": {},
   "outputs": [
    {
     "data": {
      "text/plain": [
       "{a: 14/3, b: 21/5, c: 10/3, d: 14/5}"
      ]
     },
     "execution_count": 14,
     "metadata": {},
     "output_type": "execute_result"
    }
   ],
   "source": [
    "h=solve([Eq(5*d/2,7),Eq(3*c/2,5),Eq(b-3*d/2,0),Eq(a-c/2,3)])\n",
    "h"
   ]
  },
  {
   "cell_type": "code",
   "execution_count": 15,
   "metadata": {},
   "outputs": [
    {
     "data": {
      "text/latex": [
       "$\\displaystyle 7.0 x^{3} + 5.0 x^{2} + 8.88178419700125 \\cdot 10^{-16} x + 3.0$"
      ],
      "text/plain": [
       "7.0*x**3 + 5.0*x**2 + 8.88178419700125e-16*x + 3.0"
      ]
     },
     "execution_count": 15,
     "metadata": {},
     "output_type": "execute_result"
    }
   ],
   "source": [
    "(14/3*legendre(0,x) +(21/5)*legendre(1,x) +10/3*legendre(2,x) +14/5*legendre(3,x)).simplify()\n",
    "\n",
    "\n",
    "\n",
    " "
   ]
  },
  {
   "cell_type": "code",
   "execution_count": null,
   "metadata": {},
   "outputs": [],
   "source": []
  },
  {
   "cell_type": "code",
   "execution_count": null,
   "metadata": {},
   "outputs": [],
   "source": []
  },
  {
   "cell_type": "code",
   "execution_count": null,
   "metadata": {},
   "outputs": [],
   "source": []
  },
  {
   "cell_type": "code",
   "execution_count": 16,
   "metadata": {},
   "outputs": [],
   "source": [
    "v_1x=1\n",
    "v_1y=2\n",
    "v_1z=-1\n",
    "v_2x=-1\n",
    "v_2y=3\n",
    "v_2z=2\n",
    "v_3x=1\n",
    "v_3y=1\n",
    "v_3z=2"
   ]
  },
  {
   "cell_type": "code",
   "execution_count": 21,
   "metadata": {},
   "outputs": [],
   "source": [
    "v_1=v_1x*N.i + v_1y*N.j + v_1z*N.k"
   ]
  },
  {
   "cell_type": "code",
   "execution_count": 22,
   "metadata": {},
   "outputs": [],
   "source": [
    "v_3=v_3x*N.i + v_3y*N.j + v_3z*N.k"
   ]
  },
  {
   "cell_type": "code",
   "execution_count": 23,
   "metadata": {},
   "outputs": [],
   "source": [
    "v_2=v_2x*N.i + v_2y*N.j + v_2z*N.k"
   ]
  },
  {
   "cell_type": "code",
   "execution_count": 88,
   "metadata": {},
   "outputs": [],
   "source": [
    "u_1 = v_1\n",
    "u_1 = u_1.normalize()\n",
    "u_2 = v_2 - (v_2&u_1)*u_1\n",
    "u_2 = u_2.normalize()\n",
    "u_3 = v_3 - (v_3&u_1)*u_1 - (v_3&u_2)*u_2 \n",
    "u_3 = u_3.normalize()\n"
   ]
  },
  {
   "cell_type": "code",
   "execution_count": 89,
   "metadata": {},
   "outputs": [
    {
     "data": {
      "text/latex": [
       "$\\displaystyle (\\frac{\\sqrt{6}}{6})\\mathbf{\\hat{i}_{N}} + (\\frac{\\sqrt{6}}{3})\\mathbf{\\hat{j}_{N}} + (- \\frac{\\sqrt{6}}{6})\\mathbf{\\hat{k}_{N}}$"
      ],
      "text/plain": [
       "(sqrt(6)/6)*N.i + (sqrt(6)/3)*N.j + (-sqrt(6)/6)*N.k"
      ]
     },
     "execution_count": 89,
     "metadata": {},
     "output_type": "execute_result"
    }
   ],
   "source": [
    "u_1"
   ]
  },
  {
   "cell_type": "code",
   "execution_count": 90,
   "metadata": {},
   "outputs": [
    {
     "data": {
      "text/latex": [
       "$\\displaystyle (- \\frac{3 \\sqrt{2}}{10})\\mathbf{\\hat{i}_{N}} + (\\frac{2 \\sqrt{2}}{5})\\mathbf{\\hat{j}_{N}} + (\\frac{\\sqrt{2}}{2})\\mathbf{\\hat{k}_{N}}$"
      ],
      "text/plain": [
       "(-3*sqrt(2)/10)*N.i + (2*sqrt(2)/5)*N.j + (sqrt(2)/2)*N.k"
      ]
     },
     "execution_count": 90,
     "metadata": {},
     "output_type": "execute_result"
    }
   ],
   "source": [
    "u_2"
   ]
  },
  {
   "cell_type": "code",
   "execution_count": 91,
   "metadata": {},
   "outputs": [
    {
     "data": {
      "text/latex": [
       "$\\displaystyle (\\frac{7 \\sqrt{3}}{15})\\mathbf{\\hat{i}_{N}} + (- \\frac{\\sqrt{3}}{15})\\mathbf{\\hat{j}_{N}} + (\\frac{\\sqrt{3}}{3})\\mathbf{\\hat{k}_{N}}$"
      ],
      "text/plain": [
       "(7*sqrt(3)/15)*N.i + (-sqrt(3)/15)*N.j + (sqrt(3)/3)*N.k"
      ]
     },
     "execution_count": 91,
     "metadata": {},
     "output_type": "execute_result"
    }
   ],
   "source": [
    "\n",
    "u_3"
   ]
  },
  {
   "cell_type": "code",
   "execution_count": 102,
   "metadata": {},
   "outputs": [
    {
     "data": {
      "text/latex": [
       "$\\displaystyle 1$"
      ],
      "text/plain": [
       "1"
      ]
     },
     "execution_count": 102,
     "metadata": {},
     "output_type": "execute_result"
    }
   ],
   "source": [
    "u_1.cross(u_2).dot(u_3)"
   ]
  },
  {
   "cell_type": "code",
   "execution_count": 103,
   "metadata": {},
   "outputs": [],
   "source": [
    "a=-1\n",
    "b=1\n",
    "n = 9"
   ]
  },
  {
   "cell_type": "code",
   "execution_count": null,
   "metadata": {},
   "outputs": [],
   "source": []
  },
  {
   "cell_type": "code",
   "execution_count": 104,
   "metadata": {},
   "outputs": [
    {
     "data": {
      "text/plain": [
       "[1, x, x**2, x**3, x**4, x**5, x**6, x**7, x**8]"
      ]
     },
     "execution_count": 104,
     "metadata": {},
     "output_type": "execute_result"
    }
   ],
   "source": [
    "f=[]\n",
    "for i in range(0,n):\n",
    "    f.append(x**i) \n",
    "f"
   ]
  },
  {
   "cell_type": "code",
   "execution_count": 105,
   "metadata": {},
   "outputs": [],
   "source": [
    "\n",
    "def interior(f,g,a,b):\n",
    "    p=integrate(f*g,(x,a,b))\n",
    "    return p\n",
    "\n",
    "def norma(f):\n",
    "    p=sy.sqrt(integrate(f*f,(x,a,b)))\n",
    "    return p\n"
   ]
  },
  {
   "cell_type": "code",
   "execution_count": null,
   "metadata": {},
   "outputs": [],
   "source": []
  },
  {
   "cell_type": "code",
   "execution_count": null,
   "metadata": {},
   "outputs": [],
   "source": []
  },
  {
   "cell_type": "code",
   "execution_count": null,
   "metadata": {},
   "outputs": [],
   "source": []
  },
  {
   "cell_type": "code",
   "execution_count": 106,
   "metadata": {},
   "outputs": [
    {
     "data": {
      "text/plain": [
       "[sqrt(2)/2,\n",
       " sqrt(6)*x/2,\n",
       " 3*sqrt(10)*(x**2 - 1/3)/4,\n",
       " 5*sqrt(14)*(x**3 - 3*x/5)/4,\n",
       " 105*sqrt(2)*(x**4 - 6*x**2/7 + 3/35)/16,\n",
       " 63*sqrt(22)*(x**5 - 10*x**3/9 + 5*x/21)/16,\n",
       " 231*sqrt(26)*(x**6 - 15*x**4/11 + 5*x**2/11 - 5/231)/32,\n",
       " 429*sqrt(30)*(x**7 - 21*x**5/13 + 105*x**3/143 - 35*x/429)/32,\n",
       " 6435*sqrt(34)*(x**8 - 28*x**6/15 + 14*x**4/13 - 28*x**2/143 + 7/1287)/256]"
      ]
     },
     "execution_count": 106,
     "metadata": {},
     "output_type": "execute_result"
    }
   ],
   "source": [
    "e=[]    \n",
    "e.append(f[0]/norma(f[0]))\n",
    "\n",
    "for k in range(1,n):\n",
    "    e.append(0)\n",
    "\n",
    "for i in range(1,n):\n",
    "    h=0\n",
    "    \n",
    "    for j in range(1,n-1):\n",
    "        h=h + (interior(f[i],e[j-1],a,b)*e[j-1])\n",
    "    e[i] = f[i] - h\n",
    "    e[i] = e[i]/norma(e[i]) \n",
    "\n",
    "e"
   ]
  },
  {
   "cell_type": "code",
   "execution_count": 109,
   "metadata": {},
   "outputs": [
    {
     "data": {
      "text/latex": [
       "$\\displaystyle 0$"
      ],
      "text/plain": [
       "0"
      ]
     },
     "execution_count": 109,
     "metadata": {},
     "output_type": "execute_result"
    }
   ],
   "source": [
    "(sy.sqrt(Rational(6+(1/2)))*legendre(6,x)-e[6]).simplify()"
   ]
  },
  {
   "cell_type": "code",
   "execution_count": null,
   "metadata": {},
   "outputs": [],
   "source": []
  },
  {
   "cell_type": "code",
   "execution_count": null,
   "metadata": {},
   "outputs": [],
   "source": []
  }
 ],
 "metadata": {
  "kernelspec": {
   "display_name": "Python 3",
   "language": "python",
   "name": "python3"
  },
  "language_info": {
   "codemirror_mode": {
    "name": "ipython",
    "version": 3
   },
   "file_extension": ".py",
   "mimetype": "text/x-python",
   "name": "python",
   "nbconvert_exporter": "python",
   "pygments_lexer": "ipython3",
   "version": "3.7.4"
  }
 },
 "nbformat": 4,
 "nbformat_minor": 4
}
